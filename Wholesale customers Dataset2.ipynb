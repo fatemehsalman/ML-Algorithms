{
 "cells": [
  {
   "cell_type": "markdown",
   "id": "bc9209ca",
   "metadata": {},
   "source": [
    "# Importing the libraries"
   ]
  },
  {
   "cell_type": "code",
   "execution_count": 1,
   "id": "c25168fe",
   "metadata": {},
   "outputs": [],
   "source": [
    "# Importing the libraries\n",
    "\n",
    "import numpy as np\n",
    "import matplotlib.pyplot as plt\n",
    "import pandas as pd\n",
    "%matplotlib inline\n",
    "plt.style.use(\"ggplot\")"
   ]
  },
  {
   "cell_type": "markdown",
   "id": "db67345d",
   "metadata": {},
   "source": [
    "# Loading the dataset"
   ]
  },
  {
   "cell_type": "code",
   "execution_count": 2,
   "id": "9e8ddff3",
   "metadata": {},
   "outputs": [
    {
     "data": {
      "text/html": [
       "<div>\n",
       "<style scoped>\n",
       "    .dataframe tbody tr th:only-of-type {\n",
       "        vertical-align: middle;\n",
       "    }\n",
       "\n",
       "    .dataframe tbody tr th {\n",
       "        vertical-align: top;\n",
       "    }\n",
       "\n",
       "    .dataframe thead th {\n",
       "        text-align: right;\n",
       "    }\n",
       "</style>\n",
       "<table border=\"1\" class=\"dataframe\">\n",
       "  <thead>\n",
       "    <tr style=\"text-align: right;\">\n",
       "      <th></th>\n",
       "      <th>Channel</th>\n",
       "      <th>Region</th>\n",
       "      <th>Fresh</th>\n",
       "      <th>Milk</th>\n",
       "      <th>Grocery</th>\n",
       "      <th>Frozen</th>\n",
       "      <th>Detergents_Paper</th>\n",
       "      <th>Delicassen</th>\n",
       "    </tr>\n",
       "  </thead>\n",
       "  <tbody>\n",
       "    <tr>\n",
       "      <th>0</th>\n",
       "      <td>2</td>\n",
       "      <td>3</td>\n",
       "      <td>12669</td>\n",
       "      <td>9656</td>\n",
       "      <td>7561</td>\n",
       "      <td>214</td>\n",
       "      <td>2674</td>\n",
       "      <td>1338</td>\n",
       "    </tr>\n",
       "    <tr>\n",
       "      <th>1</th>\n",
       "      <td>2</td>\n",
       "      <td>3</td>\n",
       "      <td>7057</td>\n",
       "      <td>9810</td>\n",
       "      <td>9568</td>\n",
       "      <td>1762</td>\n",
       "      <td>3293</td>\n",
       "      <td>1776</td>\n",
       "    </tr>\n",
       "    <tr>\n",
       "      <th>2</th>\n",
       "      <td>2</td>\n",
       "      <td>3</td>\n",
       "      <td>6353</td>\n",
       "      <td>8808</td>\n",
       "      <td>7684</td>\n",
       "      <td>2405</td>\n",
       "      <td>3516</td>\n",
       "      <td>7844</td>\n",
       "    </tr>\n",
       "    <tr>\n",
       "      <th>3</th>\n",
       "      <td>1</td>\n",
       "      <td>3</td>\n",
       "      <td>13265</td>\n",
       "      <td>1196</td>\n",
       "      <td>4221</td>\n",
       "      <td>6404</td>\n",
       "      <td>507</td>\n",
       "      <td>1788</td>\n",
       "    </tr>\n",
       "    <tr>\n",
       "      <th>4</th>\n",
       "      <td>2</td>\n",
       "      <td>3</td>\n",
       "      <td>22615</td>\n",
       "      <td>5410</td>\n",
       "      <td>7198</td>\n",
       "      <td>3915</td>\n",
       "      <td>1777</td>\n",
       "      <td>5185</td>\n",
       "    </tr>\n",
       "  </tbody>\n",
       "</table>\n",
       "</div>"
      ],
      "text/plain": [
       "   Channel  Region  Fresh  Milk  Grocery  Frozen  Detergents_Paper  Delicassen\n",
       "0        2       3  12669  9656     7561     214              2674        1338\n",
       "1        2       3   7057  9810     9568    1762              3293        1776\n",
       "2        2       3   6353  8808     7684    2405              3516        7844\n",
       "3        1       3  13265  1196     4221    6404               507        1788\n",
       "4        2       3  22615  5410     7198    3915              1777        5185"
      ]
     },
     "execution_count": 2,
     "metadata": {},
     "output_type": "execute_result"
    }
   ],
   "source": [
    "# Importing the dataset\n",
    "\n",
    "dataset = pd.read_csv('Wholesale customers data.csv')\n",
    "dataset.shape\n",
    "dataset.head(5)"
   ]
  },
  {
   "cell_type": "markdown",
   "id": "98294361",
   "metadata": {},
   "source": [
    "# Missing data & Type of variables"
   ]
  },
  {
   "cell_type": "code",
   "execution_count": 3,
   "id": "384d5061",
   "metadata": {},
   "outputs": [
    {
     "name": "stdout",
     "output_type": "stream",
     "text": [
      "<class 'pandas.core.frame.DataFrame'>\n",
      "RangeIndex: 440 entries, 0 to 439\n",
      "Data columns (total 8 columns):\n",
      " #   Column            Non-Null Count  Dtype\n",
      "---  ------            --------------  -----\n",
      " 0   Channel           440 non-null    int64\n",
      " 1   Region            440 non-null    int64\n",
      " 2   Fresh             440 non-null    int64\n",
      " 3   Milk              440 non-null    int64\n",
      " 4   Grocery           440 non-null    int64\n",
      " 5   Frozen            440 non-null    int64\n",
      " 6   Detergents_Paper  440 non-null    int64\n",
      " 7   Delicassen        440 non-null    int64\n",
      "dtypes: int64(8)\n",
      "memory usage: 27.6 KB\n"
     ]
    }
   ],
   "source": [
    "dataset.info()"
   ]
  },
  {
   "cell_type": "code",
   "execution_count": 4,
   "id": "952cddad",
   "metadata": {},
   "outputs": [
    {
     "data": {
      "text/plain": [
       "Channel             0\n",
       "Region              0\n",
       "Fresh               0\n",
       "Milk                0\n",
       "Grocery             0\n",
       "Frozen              0\n",
       "Detergents_Paper    0\n",
       "Delicassen          0\n",
       "dtype: int64"
      ]
     },
     "execution_count": 4,
     "metadata": {},
     "output_type": "execute_result"
    }
   ],
   "source": [
    "dataset.isnull().sum()"
   ]
  },
  {
   "cell_type": "markdown",
   "id": "c007ab66",
   "metadata": {},
   "source": [
    "# Analysis:"
   ]
  },
  {
   "cell_type": "code",
   "execution_count": 5,
   "id": "6cbed039",
   "metadata": {},
   "outputs": [
    {
     "name": "stdout",
     "output_type": "stream",
     "text": [
      "<class 'pandas.core.frame.DataFrame'>\n",
      "RangeIndex: 440 entries, 0 to 439\n",
      "Data columns (total 8 columns):\n",
      " #   Column            Non-Null Count  Dtype   \n",
      "---  ------            --------------  -----   \n",
      " 0   Channel           440 non-null    category\n",
      " 1   Region            440 non-null    category\n",
      " 2   Fresh             440 non-null    int64   \n",
      " 3   Milk              440 non-null    int64   \n",
      " 4   Grocery           440 non-null    int64   \n",
      " 5   Frozen            440 non-null    int64   \n",
      " 6   Detergents_Paper  440 non-null    int64   \n",
      " 7   Delicassen        440 non-null    int64   \n",
      "dtypes: category(2), int64(6)\n",
      "memory usage: 21.9 KB\n"
     ]
    }
   ],
   "source": [
    "# Transforming specific variables into categorical variables\n",
    "\n",
    "dataset['Channel'] = dataset['Channel'].astype('category')\n",
    "dataset['Region'] = dataset['Region'].astype('category')\n",
    "dataset.info()"
   ]
  },
  {
   "cell_type": "markdown",
   "id": "65153b6c",
   "metadata": {},
   "source": [
    "# Data pre-processing for model"
   ]
  },
  {
   "cell_type": "code",
   "execution_count": 6,
   "id": "a25a5f55",
   "metadata": {},
   "outputs": [],
   "source": [
    "# Customer Segmentation by $ Revenue & Country\n",
    "\n",
    "X = dataset\n",
    "num_cols = [\"Fresh\", \"Milk\", \"Grocery\", \"Frozen\", \"Detergents_Paper\", \"Delicassen\"]\n",
    "\n",
    "# Creating dummy variables for categorical types\n",
    "cat_cols = [\"Channel\", \"Region\"]\n",
    "dummies = pd.get_dummies(X[cat_cols])\n",
    "# dummies.head(5)\n",
    "\n",
    "# Combining dummy variables and numeric varianbles\n",
    "\n",
    "X1 = X[num_cols]\n",
    "X2 = pd.concat([dummies, X1], axis=1)\n",
    "X = X2\n",
    "\n",
    "y = dataset[\"Frozen\"]\n",
    "\n",
    "# Splitting the dataset into the training and test sets\n",
    "\n",
    "from sklearn.model_selection import train_test_split\n",
    "X_train, X_test, y_train, y_test = train_test_split(X, y, test_size = 0.25, random_state = 0)\n",
    "X_train.head(5)\n",
    "\n",
    "X_test0 = X_test\n",
    "y_test0 = y_test"
   ]
  },
  {
   "cell_type": "markdown",
   "id": "3214d92b",
   "metadata": {},
   "source": [
    "# Principal component analysis"
   ]
  },
  {
   "cell_type": "code",
   "execution_count": 7,
   "id": "ff0a963c",
   "metadata": {},
   "outputs": [
    {
     "name": "stdout",
     "output_type": "stream",
     "text": [
      "Variation explained by each principal component\n"
     ]
    },
    {
     "data": {
      "text/plain": [
       "[0.46595784879068103,\n",
       " 0.40473044136593744,\n",
       " 0.06915995278940268,\n",
       " 0.0377564565310207,\n",
       " 0.01603191921308992,\n",
       " 0.006363379487508994,\n",
       " 8.365303815710361e-10,\n",
       " 6.566091152558098e-10,\n",
       " 3.292197502735766e-10,\n",
       " 1.11299085090118e-34,\n",
       " 3.319471567360467e-36]"
      ]
     },
     "execution_count": 7,
     "metadata": {},
     "output_type": "execute_result"
    }
   ],
   "source": [
    "# Checking the variance explained by each principal component\n",
    "\n",
    "from sklearn.decomposition import PCA\n",
    "pca = PCA(n_components = None)\n",
    "X_train1 = pca.fit_transform(X_train)\n",
    "X_test1 = pca.transform(X_test)\n",
    "explained_variance = pca.explained_variance_ratio_\n",
    "print(\"Variation explained by each principal component\")\n",
    "list(explained_variance)"
   ]
  },
  {
   "cell_type": "code",
   "execution_count": 8,
   "id": "8b8a0580",
   "metadata": {},
   "outputs": [],
   "source": [
    "# Analysis: WE shall choose the top 2 principal components.\n",
    "# The top 2 principal components explain 86 % variance in the dataset. \n",
    "# Beyond the top 2, the marginial gain in variance for adding each principal componenet is significantly reduced.\n",
    "\n",
    "# Selecting the top 2 principal components"
   ]
  },
  {
   "cell_type": "code",
   "execution_count": 9,
   "id": "2e06b015",
   "metadata": {},
   "outputs": [
    {
     "name": "stdout",
     "output_type": "stream",
     "text": [
      "Variation explained by each principal component\n"
     ]
    },
    {
     "data": {
      "text/plain": [
       "[0.46595784879068103, 0.40473044136593744]"
      ]
     },
     "execution_count": 9,
     "metadata": {},
     "output_type": "execute_result"
    }
   ],
   "source": [
    "# Principal component analysis to take the 2 top components\n",
    "\n",
    "i = 2\n",
    "from sklearn.decomposition import PCA\n",
    "pca = PCA(n_components = i)\n",
    "X_train = pca.fit_transform(X_train)\n",
    "X_test = pca.transform(X_test)\n",
    "explained_variance = pca.explained_variance_ratio_\n",
    "print(\"Variation explained by each principal component\")\n",
    "list(explained_variance)"
   ]
  },
  {
   "cell_type": "markdown",
   "id": "3624bee8",
   "metadata": {},
   "source": [
    "# Customer segmentation"
   ]
  },
  {
   "cell_type": "code",
   "execution_count": 10,
   "id": "1ffe0f76",
   "metadata": {},
   "outputs": [
    {
     "name": "stderr",
     "output_type": "stream",
     "text": [
      "C:\\Users\\Asus\\anaconda3\\lib\\site-packages\\sklearn\\cluster\\_kmeans.py:881: UserWarning: KMeans is known to have a memory leak on Windows with MKL, when there are less chunks than available threads. You can avoid it by setting the environment variable OMP_NUM_THREADS=1.\n",
      "  warnings.warn(\n"
     ]
    },
    {
     "data": {
      "image/png": "[encoded data removed]",
      "text/plain": [
       "<Figure size 432x288 with 1 Axes>"
      ]
     },
     "metadata": {},
     "output_type": "display_data"
    }
   ],
   "source": [
    "# # Elbow method used for customer segmentation based on the top 2 principal componenets\n",
    "\n",
    "\n",
    "# # Using the elbow method to find the optimal number of clusters\n",
    "# K_values = range(2, 16)\n",
    "# from sklearn.cluster import KMeans\n",
    "# wcss = []\n",
    "# for i in K_values:\n",
    "#     kmeans = KMeans(n_clusters = i, init = 'k-means++', random_state = 42)\n",
    "#     kmeans.fit(X_test)\n",
    "#     wcss.append(kmeans.inertia_)\n",
    "# plt.plot(K_values, wcss)\n",
    "# plt.title('The Elbow Method')\n",
    "# plt.xlabel('Number of clusters')\n",
    "# plt.ylabel('WCSS')\n",
    "# plt.show()\n",
    "\n",
    "# # Identify the optimal K using the \"elbow\" method\n",
    "# diff = np.diff(wcss)\n",
    "# k_optimal = K_values[np.argmin(diff) + 1]\n",
    "\n",
    "# print(f\"The optimal number of clusters (K) is: {k_optimal}\")\n",
    "\n",
    "\n",
    "\n",
    "# Using the elbow method to find the optimal number of clusters\n",
    "\n",
    "from sklearn.cluster import KMeans\n",
    "wcss = []\n",
    "for i in range(1, 11):\n",
    "    kmeans = KMeans(n_clusters = i, init = 'k-means++', random_state = 42)\n",
    "    kmeans.fit(X_test)\n",
    "    wcss.append(kmeans.inertia_)\n",
    "plt.plot(range(1, 11), wcss)\n",
    "plt.title('The Elbow Method')\n",
    "plt.xlabel('Number of clusters')\n",
    "plt.ylabel('WCSS')\n",
    "plt.show()\n"
   ]
  },
  {
   "cell_type": "code",
   "execution_count": 11,
   "id": "4e74af07",
   "metadata": {},
   "outputs": [],
   "source": [
    "# Analysis:\n",
    "# Based on the above diagram, the optimal number of customer segmenets is 3. \n",
    "# After the first 3 segments, the incremental drop in error for every additional segment results is significantly reduced."
   ]
  },
  {
   "cell_type": "code",
   "execution_count": 12,
   "id": "b6078bb2",
   "metadata": {},
   "outputs": [
    {
     "data": {
      "image/png": "[encoded data removed]",
      "text/plain": [
       "<Figure size 432x288 with 1 Axes>"
      ]
     },
     "metadata": {},
     "output_type": "display_data"
    }
   ],
   "source": [
    "# Fitting K-Means to the dataset\n",
    "X3 = X_test\n",
    "kmeans = KMeans(n_clusters = 3, init = 'k-means++', random_state = 42)\n",
    "y_kmeans = kmeans.fit_predict(X3)\n",
    "plt.plot(y_kmeans, 'g^')\n",
    "plt.show()"
   ]
  },
  {
   "cell_type": "markdown",
   "id": "adac2e8f",
   "metadata": {},
   "source": [
    "# Visualizing customer segments"
   ]
  },
  {
   "cell_type": "code",
   "execution_count": 13,
   "id": "1edd6e1a",
   "metadata": {},
   "outputs": [
    {
     "data": {
      "image/png": "[encoded data removed]",
      "text/plain": [
       "<Figure size 432x288 with 1 Axes>"
      ]
     },
     "metadata": {},
     "output_type": "display_data"
    }
   ],
   "source": [
    "# Visualising the clusters\n",
    "plt.scatter(X3[y_kmeans == 0, 0], X3[y_kmeans == 0, 1], s = 100, c = 'red', label = 'Segment 1')\n",
    "plt.scatter(X3[y_kmeans == 1, 0], X3[y_kmeans == 1, 1], s = 100, c = 'blue', label = 'Segment 2')\n",
    "plt.scatter(X3[y_kmeans == 2, 0], X3[y_kmeans == 2, 1], s = 100, c = 'green', label = 'Segment 3')\n",
    "plt.scatter(kmeans.cluster_centers_[:, 0], kmeans.cluster_centers_[:, 1], s = 200, c = 'yellow', label = 'Centroids')\n",
    "plt.title('Customer segments')\n",
    "plt.legend()\n",
    "plt.show()\n",
    "\n",
    "\n",
    "\n",
    "# Analysis:\n",
    "# There are some overlap between segment No. 3 with each of Segment No. 1 & 2 at the boundaries which we need to keep in mind while analyzing customers.\n",
    "\n",
    "# The k-means clustering algorithm being a un-supervised learning algorithm, we can perform a quick visual check on the model's performance based on the visualization chart."
   ]
  },
  {
   "cell_type": "markdown",
   "id": "d5069b76",
   "metadata": {},
   "source": [
    "# Customer Segments"
   ]
  },
  {
   "cell_type": "code",
   "execution_count": 14,
   "id": "8e1cf754",
   "metadata": {},
   "outputs": [],
   "source": [
    "Customer_segment_class = pd.DataFrame(y_kmeans)\n",
    "Customer_segment_class.columns = [\"Customer_segment_class\"]\n",
    "X_test2 = X_test0.reset_index(drop=True)\n",
    "\n",
    "Customer_segments = pd.concat([Customer_segment_class, X_test2], axis = 1)\n",
    "# Customer_segments.head(5)"
   ]
  },
  {
   "cell_type": "code",
   "execution_count": 15,
   "id": "2e723301",
   "metadata": {},
   "outputs": [],
   "source": [
    "# 1st Cluster\n",
    "mask = Customer_segments[\"Customer_segment_class\"] == 0\n",
    "Customer_segments_1 = Customer_segments[mask]\n",
    "\n",
    "# 2nd Cluster\n",
    "mask = Customer_segments[\"Customer_segment_class\"] == 1\n",
    "Customer_segments_2 = Customer_segments[mask]\n",
    "\n",
    "# 3rd Cluster\n",
    "mask = Customer_segments[\"Customer_segment_class\"] == 2\n",
    "Customer_segments_3 = Customer_segments[mask]"
   ]
  },
  {
   "cell_type": "markdown",
   "id": "136523db",
   "metadata": {},
   "source": [
    "# Customer Segment Features"
   ]
  },
  {
   "cell_type": "code",
   "execution_count": 16,
   "id": "1616c1c3",
   "metadata": {},
   "outputs": [
    {
     "data": {
      "text/plain": [
       "Channel_1  Channel_2\n",
       "0          1            19\n",
       "1          0            52\n",
       "dtype: int64"
      ]
     },
     "execution_count": 16,
     "metadata": {},
     "output_type": "execute_result"
    }
   ],
   "source": [
    "# Regions & Channel\n",
    "Customer_segments_1.groupby([\"Channel_1\", \"Channel_2\"]).size()\n",
    "Customer_segments_2.groupby([\"Channel_1\", \"Channel_2\"]).size()\n",
    "Customer_segments_3.groupby([\"Channel_1\", \"Channel_2\"]).size()"
   ]
  },
  {
   "cell_type": "code",
   "execution_count": 17,
   "id": "0a7fed50",
   "metadata": {},
   "outputs": [
    {
     "data": {
      "text/plain": [
       "Region_1  Region_2  Region_3\n",
       "0         0         1           52\n",
       "          1         0            8\n",
       "1         0         0           11\n",
       "dtype: int64"
      ]
     },
     "execution_count": 17,
     "metadata": {},
     "output_type": "execute_result"
    }
   ],
   "source": [
    "Customer_segments_1.groupby([\"Region_1\", \"Region_2\", \"Region_3\"]).size()\n",
    "Customer_segments_2.groupby([\"Region_1\", \"Region_2\", \"Region_3\"]).size()\n",
    "Customer_segments_3.groupby([\"Region_1\", \"Region_2\", \"Region_3\"]).size()"
   ]
  },
  {
   "cell_type": "markdown",
   "id": "f7e36d8a",
   "metadata": {},
   "source": [
    "# Fresh, Milk & Grocery"
   ]
  },
  {
   "cell_type": "code",
   "execution_count": 18,
   "id": "2a3fc89e",
   "metadata": {},
   "outputs": [
    {
     "data": {
      "image/png": "[encoded data removed]",
      "text/plain": [
       "<Figure size 432x288 with 9 Axes>"
      ]
     },
     "metadata": {},
     "output_type": "display_data"
    }
   ],
   "source": [
    "# Fresh\n",
    "\n",
    "plt.subplot(331)\n",
    "plt.title('Fresh_1')\n",
    "Output = None\n",
    "Customer_segments_1[\"Fresh\"].plot(kind = \"hist\", bins = 10)\n",
    "\n",
    "plt.subplot(332)\n",
    "plt.title('Freshs_2')\n",
    "Output = None\n",
    "Customer_segments_2[\"Fresh\"].plot(kind = \"hist\", bins = 10)\n",
    "\n",
    "plt.subplot(333)\n",
    "plt.title('Fresh_3')\n",
    "Output = None\n",
    "Customer_segments_3[\"Fresh\"].plot(kind = \"hist\", bins = 10)\n",
    "plt.tight_layout()\n",
    "\n",
    "# Milk\n",
    "\n",
    "plt.subplot(334)\n",
    "plt.title('Milk_1')\n",
    "Output = None\n",
    "Customer_segments_1[\"Milk\"].plot(kind = \"hist\", bins = 10)\n",
    "\n",
    "plt.subplot(335)\n",
    "plt.title('Milk_2')\n",
    "Output = None\n",
    "Customer_segments_2[\"Milk\"].plot(kind = \"hist\", bins = 10)\n",
    "\n",
    "plt.subplot(336)\n",
    "plt.title('Milk_3')\n",
    "Output = None\n",
    "Customer_segments_3[\"Milk\"].plot(kind = \"hist\", bins = 10)\n",
    "plt.tight_layout()\n",
    "\n",
    "\n",
    "\n",
    "# Grocery\n",
    "\n",
    "plt.subplot(337)\n",
    "plt.title('Grocery_1')\n",
    "Output = None\n",
    "Customer_segments_1[\"Grocery\"].plot(kind = \"hist\", bins = 10)\n",
    "\n",
    "plt.subplot(338)\n",
    "plt.title('Grocery_2')\n",
    "Output = None\n",
    "Customer_segments_2[\"Grocery\"].plot(kind = \"hist\", bins = 10)\n",
    "\n",
    "plt.subplot(339)\n",
    "plt.title('Grocery_3')\n",
    "Output = None\n",
    "Customer_segments_3[\"Grocery\"].plot(kind = \"hist\", bins = 10)\n",
    "plt.tight_layout()\n",
    "\n",
    "\n",
    "\n",
    "# Fresh: Segment # 2 makes significant purchases compared to other segments folloewed by Segment # 3\n",
    "\n",
    "# Milk: Segment # 1 makes significant purchases compared to other segments\n",
    "\n",
    "# Grocery: Segnment # 1 makes significant purchases compared to other segments"
   ]
  },
  {
   "cell_type": "markdown",
   "id": "83ec2c13",
   "metadata": {},
   "source": [
    "# Frozen, Detergent Paper & Delicassen\n"
   ]
  },
  {
   "cell_type": "code",
   "execution_count": 19,
   "id": "fb0e30f6",
   "metadata": {},
   "outputs": [
    {
     "data": {
      "image/png": "[encoded data removed]",
      "text/plain": [
       "<Figure size 432x288 with 9 Axes>"
      ]
     },
     "metadata": {},
     "output_type": "display_data"
    }
   ],
   "source": [
    "# Frozen\n",
    "\n",
    "plt.subplot(331)\n",
    "plt.title('Frozen_1')\n",
    "Customer_segments_1[\"Frozen\"].plot(kind = \"hist\", bins = 10)\n",
    "\n",
    "plt.subplot(332)\n",
    "plt.title('Frozen_2')\n",
    "Customer_segments_2[\"Frozen\"].plot(kind = \"hist\", bins = 10)\n",
    "\n",
    "plt.subplot(333)\n",
    "plt.title('Frozen_3')\n",
    "Customer_segments_3[\"Frozen\"].plot(kind = \"hist\", bins = 10)\n",
    "plt.tight_layout()\n",
    "\n",
    "# Detergent Paper\n",
    "\n",
    "plt.subplot(334)\n",
    "plt.title('Detergent_1')\n",
    "Customer_segments_1[\"Detergents_Paper\"].plot(kind = \"hist\", bins = 10)\n",
    "\n",
    "plt.subplot(335)\n",
    "plt.title('Detergent_2')\n",
    "Customer_segments_2[\"Detergents_Paper\"].plot(kind = \"hist\", bins = 10)\n",
    "\n",
    "plt.subplot(336)\n",
    "plt.title('Detergent_3')\n",
    "Customer_segments_3[\"Detergents_Paper\"].plot(kind = \"hist\", bins = 10)\n",
    "plt.tight_layout()\n",
    "\n",
    "# Delicassen\n",
    "\n",
    "plt.subplot(337)\n",
    "plt.title('Delicassen_1')\n",
    "Customer_segments_1[\"Delicassen\"].plot(kind = \"hist\", bins = 10)\n",
    "\n",
    "plt.subplot(338)\n",
    "plt.title('Delicassen_2')\n",
    "Customer_segments_2[\"Delicassen\"].plot(kind = \"hist\", bins = 10)\n",
    "\n",
    "plt.subplot(339)\n",
    "plt.title('Delicassen_3')\n",
    "Customer_segments_3[\"Delicassen\"].plot(kind = \"hist\", bins = 10)\n",
    "plt.tight_layout()"
   ]
  },
  {
   "cell_type": "code",
   "execution_count": 21,
   "id": "6ac74d7d",
   "metadata": {},
   "outputs": [
    {
     "data": {
      "image/png": "[encoded data removed]",
      "text/plain": [
       "<Figure size 432x288 with 1 Axes>"
      ]
     },
     "metadata": {},
     "output_type": "display_data"
    }
   ],
   "source": [
    "from sklearn.cluster import DBSCAN\n",
    "from sklearn.neighbors import NearestNeighbors\n",
    "from sklearn.metrics import silhouette_score\n",
    "\n",
    "# Find optimal epsilon using NearestNeighbors\n",
    "neighbors = NearestNeighbors(n_neighbors=2)\n",
    "neighbors_fit = neighbors.fit(X_train)\n",
    "distances, indices = neighbors_fit.kneighbors(X_train)\n",
    "distances = np.sort(distances, axis=0)\n",
    "distances = distances[:,1]\n",
    "plt.plot(distances)\n",
    "\n",
    "# Find optimal epsilon using Elbow Method\n",
    "plt.plot(np.arange(len(distances)), distances)\n",
    "plt.title(\"Elbow Method for Optimal Epsilon\")\n",
    "plt.xlabel(\"Data Points\")\n",
    "plt.ylabel(\"Distance\")\n",
    "plt.show()\n",
    "\n"
   ]
  },
  {
   "cell_type": "code",
   "execution_count": 22,
   "id": "2f2c638f",
   "metadata": {},
   "outputs": [],
   "source": [
    "# Based on the plot, choose epsilon value\n",
    "epsilon = 0.5  # choose based on elbow point\n",
    "\n",
    "# Find optimal min_samples using silhouette_score\n",
    "silhouette_scores = []\n",
    "min_samples_range = range(2, 11)\n",
    "for min_samples in min_samples_range:\n",
    "    dbscan = DBSCAN(eps=epsilon, min_samples=min_samples)\n",
    "    dbscan.fit(X_train)\n",
    "    if len(np.unique(dbscan.labels_)) > 1:\n",
    "        silhouette_scores.append(silhouette_score(X_train, dbscan.labels_))\n",
    "    else:\n",
    "        silhouette_scores.append(-1)  # silhouette score not applicable\n",
    "\n"
   ]
  },
  {
   "cell_type": "code",
   "execution_count": 23,
   "id": "4779bc1d",
   "metadata": {},
   "outputs": [
    {
     "data": {
      "image/png": "[encoded data removed]",
      "text/plain": [
       "<Figure size 432x288 with 1 Axes>"
      ]
     },
     "metadata": {},
     "output_type": "display_data"
    }
   ],
   "source": [
    "# Plot silhouette scores\n",
    "plt.plot(min_samples_range, silhouette_scores)\n",
    "plt.title(\"Silhouette Score for Optimal Min Samples\")\n",
    "plt.xlabel(\"Min Samples\")\n",
    "plt.ylabel(\"Silhouette Score\")\n",
    "plt.show()\n",
    "\n"
   ]
  },
  {
   "cell_type": "code",
   "execution_count": 24,
   "id": "1e012b08",
   "metadata": {},
   "outputs": [
    {
     "data": {
      "text/plain": [
       "DBSCAN(min_samples=2)"
      ]
     },
     "execution_count": 24,
     "metadata": {},
     "output_type": "execute_result"
    }
   ],
   "source": [
    "# Choose min_samples with highest silhouette score\n",
    "optimal_min_samples = min_samples_range[np.argmax(silhouette_scores)]\n",
    "\n",
    "# Fit DBSCAN with optimal epsilon and min_samples\n",
    "dbscan = DBSCAN(eps=epsilon, min_samples=optimal_min_samples)\n",
    "dbscan.fit(X_train)\n"
   ]
  },
  {
   "cell_type": "code",
   "execution_count": 25,
   "id": "4c1c6363",
   "metadata": {},
   "outputs": [
    {
     "name": "stdout",
     "output_type": "stream",
     "text": [
      "Number of clusters: 0\n"
     ]
    },
    {
     "data": {
      "text/plain": [
       "array([-1, -1, -1, -1, -1, -1, -1, -1, -1, -1, -1, -1, -1, -1, -1, -1, -1,\n",
       "       -1, -1, -1, -1, -1, -1, -1, -1, -1, -1, -1, -1, -1, -1, -1, -1, -1,\n",
       "       -1, -1, -1, -1, -1, -1, -1, -1, -1, -1, -1, -1, -1, -1, -1, -1, -1,\n",
       "       -1, -1, -1, -1, -1, -1, -1, -1, -1, -1, -1, -1, -1, -1, -1, -1, -1,\n",
       "       -1, -1, -1, -1, -1, -1, -1, -1, -1, -1, -1, -1, -1, -1, -1, -1, -1,\n",
       "       -1, -1, -1, -1, -1, -1, -1, -1, -1, -1, -1, -1, -1, -1, -1, -1, -1,\n",
       "       -1, -1, -1, -1, -1, -1, -1, -1], dtype=int64)"
      ]
     },
     "execution_count": 25,
     "metadata": {},
     "output_type": "execute_result"
    }
   ],
   "source": [
    "\n",
    "# Number of clusters in labels, ignoring noise if present.\n",
    "n_clusters_ = len(set(dbscan.labels_)) - (1 if -1 in dbscan.labels_ else 0)\n",
    "print(f'Number of clusters: {n_clusters_}')\n",
    "\n",
    "# Assign clusters to test data\n",
    "test_labels = dbscan.fit_predict(X_test)\n",
    "test_labels"
   ]
  },
  {
   "cell_type": "code",
   "execution_count": 26,
   "id": "2b4ee8a8",
   "metadata": {},
   "outputs": [
    {
     "data": {
      "image/png": "[encoded data removed]",
      "text/plain": [
       "<Figure size 432x288 with 1 Axes>"
      ]
     },
     "metadata": {},
     "output_type": "display_data"
    }
   ],
   "source": [
    "# Visualize clusters (if 2D data)\n",
    "if X_train.shape[1] == 2:\n",
    "    plt.scatter(X_test[:, 0], X_test[:, 1], c=test_labels)\n",
    "    plt.xlabel('Feature 1')\n",
    "    plt.ylabel('Feature 2')\n",
    "    plt.title('DBSCAN Clustering')\n",
    "    plt.show()\n",
    "\n",
    "# Now you can proceed with analyzing the clusters and their characteristics."
   ]
  },
  {
   "cell_type": "code",
   "execution_count": null,
   "id": "bca7790a",
   "metadata": {},
   "outputs": [],
   "source": []
  }
 ],
 "metadata": {
  "kernelspec": {
   "display_name": "Python 3",
   "language": "python",
   "name": "python3"
  },
  "language_info": {
   "codemirror_mode": {
    "name": "ipython",
    "version": 3
   },
   "file_extension": ".py",
   "mimetype": "text/x-python",
   "name": "python",
   "nbconvert_exporter": "python",
   "pygments_lexer": "ipython3",
   "version": "3.8.8"
  }
 },
 "nbformat": 4,
 "nbformat_minor": 5
}
